{
 "cells": [
  {
   "cell_type": "markdown",
   "metadata": {},
   "source": [
    "# Compute Statistics from Card Draws"
   ]
  },
  {
   "cell_type": "code",
   "execution_count": 1,
   "metadata": {},
   "outputs": [
    {
     "name": "stdout",
     "output_type": "stream",
     "text": [
      "[Ace of Hearts, Two of Hearts, Three of Hearts, Four of Hearts, Five of Hearts, Six of Hearts, Seven of Hearts, Eight of Hearts, Nine of Hearts, Ten of Hearts, Jack of Hearts, Queen of Hearts, King of Hearts, Ace of Diamonds, Two of Diamonds, Three of Diamonds, Four of Diamonds, Five of Diamonds, Six of Diamonds, Seven of Diamonds, Eight of Diamonds, Nine of Diamonds, Ten of Diamonds, Jack of Diamonds, Queen of Diamonds, King of Diamonds, Ace of Clubs, Two of Clubs, Three of Clubs, Four of Clubs, Five of Clubs, Six of Clubs, Seven of Clubs, Eight of Clubs, Nine of Clubs, Ten of Clubs, Jack of Clubs, Queen of Clubs, King of Clubs, Ace of Spades, Two of Spades, Three of Spades, Four of Spades, Five of Spades, Six of Spades, Seven of Spades, Eight of Spades, Nine of Spades, Ten of Spades, Jack of Spades, Queen of Spades, King of Spades]\n"
     ]
    }
   ],
   "source": [
    "import numpy as np\n",
    "import pandas as pd\n",
    "from enum import Enum\n",
    "import matplotlib\n",
    "import matplotlib.pyplot as plt\n",
    "\n",
    "# Source: https://docs.python.org/3.4/library/enum.html#orderedenum\n",
    "# https://github.com/hale/udacity-descriptive-statistics-project/blob/master/\n",
    "\n",
    "class OrderedEnum(Enum):\n",
    "    def __ge__(self, other):\n",
    "        if self.__class__ is other.__class__:\n",
    "            return self.value >= other.value\n",
    "        return NotImplemented\n",
    "    def __gt__(self, other):\n",
    "        if self.__class__ is other.__class__:\n",
    "            return self.value > other.value\n",
    "        return NotImplemented\n",
    "    def __le__(self, other):\n",
    "        if self.__class__ is other.__class__:\n",
    "            return self.value <= other.value\n",
    "        return NotImplemented\n",
    "    def __lt__(self, other):\n",
    "        if self.__class__ is other.__class__:\n",
    "            return self.value < other.value\n",
    "        return NotImplemented\n",
    "\n",
    "class Rank(OrderedEnum):\n",
    "    ace = 1\n",
    "    two = 2\n",
    "    three = 3\n",
    "    four = 4\n",
    "    five = 5\n",
    "    six = 6\n",
    "    seven = 7\n",
    "    eight = 8\n",
    "    nine = 9\n",
    "    ten = 10\n",
    "    jack = 11\n",
    "    queen = 12\n",
    "    king = 13\n",
    "    \n",
    "    @property\n",
    "    def score(self):\n",
    "        if (self.value <= 10):\n",
    "            return self.value\n",
    "        else:\n",
    "            return 10\n",
    "        \n",
    "Suit = OrderedEnum(\"Suit\", \"heart diamond club spade\")\n",
    "\n",
    "class Card(object):\n",
    "    def __init__(self, rank, suit):\n",
    "        self.rank = rank\n",
    "        self.suit = suit\n",
    "        \n",
    "    def __str__(self):\n",
    "        return \"{} of {}s\".format(self.rank.name.capitalize(), self.suit.name.capitalize())\n",
    "    \n",
    "    def __repr__(self):\n",
    "        return \"{} of {}s\".format(self.rank.name.capitalize(), self.suit.name.capitalize())\n",
    "    \n",
    "    def __value__(self):\n",
    "        return self.rank.score()\n",
    "\n",
    "class Deck(object):\n",
    "    def __init__(self):\n",
    "        self.cards = []\n",
    "        for suit in Suit:\n",
    "            for rank in Rank:\n",
    "                card = Card(rank, suit)\n",
    "                self.cards.append(card)\n",
    "                \n",
    "print(Deck().cards)"
   ]
  },
  {
   "cell_type": "code",
   "execution_count": 2,
   "metadata": {},
   "outputs": [
    {
     "data": {
      "text/html": [
       "<div>\n",
       "<style>\n",
       "    .dataframe thead tr:only-child th {\n",
       "        text-align: right;\n",
       "    }\n",
       "\n",
       "    .dataframe thead th {\n",
       "        text-align: left;\n",
       "    }\n",
       "\n",
       "    .dataframe tbody tr th {\n",
       "        vertical-align: top;\n",
       "    }\n",
       "</style>\n",
       "<table border=\"1\" class=\"dataframe\">\n",
       "  <thead>\n",
       "    <tr style=\"text-align: right;\">\n",
       "      <th></th>\n",
       "      <th>card</th>\n",
       "      <th>suit</th>\n",
       "      <th>rank</th>\n",
       "      <th>score</th>\n",
       "    </tr>\n",
       "  </thead>\n",
       "  <tbody>\n",
       "    <tr>\n",
       "      <th>47</th>\n",
       "      <td>Nine of Spades</td>\n",
       "      <td>Suit.spade</td>\n",
       "      <td>Rank.nine</td>\n",
       "      <td>9</td>\n",
       "    </tr>\n",
       "    <tr>\n",
       "      <th>48</th>\n",
       "      <td>Ten of Spades</td>\n",
       "      <td>Suit.spade</td>\n",
       "      <td>Rank.ten</td>\n",
       "      <td>10</td>\n",
       "    </tr>\n",
       "    <tr>\n",
       "      <th>49</th>\n",
       "      <td>Jack of Spades</td>\n",
       "      <td>Suit.spade</td>\n",
       "      <td>Rank.jack</td>\n",
       "      <td>10</td>\n",
       "    </tr>\n",
       "    <tr>\n",
       "      <th>50</th>\n",
       "      <td>Queen of Spades</td>\n",
       "      <td>Suit.spade</td>\n",
       "      <td>Rank.queen</td>\n",
       "      <td>10</td>\n",
       "    </tr>\n",
       "    <tr>\n",
       "      <th>51</th>\n",
       "      <td>King of Spades</td>\n",
       "      <td>Suit.spade</td>\n",
       "      <td>Rank.king</td>\n",
       "      <td>10</td>\n",
       "    </tr>\n",
       "  </tbody>\n",
       "</table>\n",
       "</div>"
      ],
      "text/plain": [
       "               card        suit        rank  score\n",
       "47   Nine of Spades  Suit.spade   Rank.nine      9\n",
       "48    Ten of Spades  Suit.spade    Rank.ten     10\n",
       "49   Jack of Spades  Suit.spade   Rank.jack     10\n",
       "50  Queen of Spades  Suit.spade  Rank.queen     10\n",
       "51   King of Spades  Suit.spade   Rank.king     10"
      ]
     },
     "execution_count": 2,
     "metadata": {},
     "output_type": "execute_result"
    }
   ],
   "source": [
    "df = pd.DataFrame({'card': Deck().cards})\n",
    "df['suit'] = df.card.map(lambda c: c.suit)\n",
    "df['rank'] = df.card.map(lambda c: c.rank)\n",
    "df['score'] = df.card.map(lambda c: c.rank.score)\n",
    "df.tail()"
   ]
  },
  {
   "cell_type": "markdown",
   "metadata": {},
   "source": [
    "## Distribution of Card Values"
   ]
  },
  {
   "cell_type": "code",
   "execution_count": 3,
   "metadata": {},
   "outputs": [
    {
     "data": {
      "text/plain": [
       "array([[<matplotlib.axes._subplots.AxesSubplot object at 0x10e561160>]], dtype=object)"
      ]
     },
     "execution_count": 3,
     "metadata": {},
     "output_type": "execute_result"
    },
    {
     "data": {
      "image/png": "[encoded data removed]",
      "text/plain": [
       "<matplotlib.figure.Figure at 0x10582e4e0>"
      ]
     },
     "metadata": {},
     "output_type": "display_data"
    }
   ],
   "source": [
    "# Create a histogram representing the relative frequencies of the card values from a single draw.\n",
    "%matplotlib inline\n",
    "df.hist()"
   ]
  },
  {
   "cell_type": "markdown",
   "metadata": {},
   "source": [
    "* What is the mean of the card values for a single draw?\n",
    "* What is the median of the card values for a single draw?\n",
    "* What is the standard deviation of the card values for a single draw? (population sd)"
   ]
  },
  {
   "cell_type": "code",
   "execution_count": 4,
   "metadata": {},
   "outputs": [
    {
     "name": "stdout",
     "output_type": "stream",
     "text": [
      "           score\n",
      "count  52.000000\n",
      "mean    6.538462\n",
      "std     3.183669\n",
      "min     1.000000\n",
      "25%     4.000000\n",
      "50%     7.000000\n",
      "75%    10.000000\n",
      "max    10.000000\n",
      "\n",
      "score    7.0\n",
      "dtype: float64\n",
      "\n",
      "score    3.152908\n",
      "dtype: float64\n"
     ]
    }
   ],
   "source": [
    "print(df.describe())\n",
    "print()\n",
    "print(df.median())\n",
    "print()\n",
    "print(df.std(ddof=0))"
   ]
  },
  {
   "cell_type": "markdown",
   "metadata": {},
   "source": [
    "## Get Samples from the Deck of Cards\n",
    "\n",
    "To obtain a single sample, shuffle your deck of cards and draw three cards from it. (You will be sampling from the deck without replacement.) Record the cards that you have drawn and the sum of the three cards’ values. Repeat this sampling procedure a total of at least thirty times."
   ]
  },
  {
   "cell_type": "code",
   "execution_count": 5,
   "metadata": {},
   "outputs": [
    {
     "data": {
      "text/html": [
       "<div>\n",
       "<style>\n",
       "    .dataframe thead tr:only-child th {\n",
       "        text-align: right;\n",
       "    }\n",
       "\n",
       "    .dataframe thead th {\n",
       "        text-align: left;\n",
       "    }\n",
       "\n",
       "    .dataframe tbody tr th {\n",
       "        vertical-align: top;\n",
       "    }\n",
       "</style>\n",
       "<table border=\"1\" class=\"dataframe\">\n",
       "  <thead>\n",
       "    <tr style=\"text-align: right;\">\n",
       "      <th></th>\n",
       "      <th>card</th>\n",
       "      <th>suit</th>\n",
       "      <th>rank</th>\n",
       "      <th>score</th>\n",
       "    </tr>\n",
       "  </thead>\n",
       "  <tbody>\n",
       "    <tr>\n",
       "      <th>33</th>\n",
       "      <td>Eight of Clubs</td>\n",
       "      <td>Suit.club</td>\n",
       "      <td>Rank.eight</td>\n",
       "      <td>8</td>\n",
       "    </tr>\n",
       "    <tr>\n",
       "      <th>10</th>\n",
       "      <td>Jack of Hearts</td>\n",
       "      <td>Suit.heart</td>\n",
       "      <td>Rank.jack</td>\n",
       "      <td>10</td>\n",
       "    </tr>\n",
       "    <tr>\n",
       "      <th>13</th>\n",
       "      <td>Ace of Diamonds</td>\n",
       "      <td>Suit.diamond</td>\n",
       "      <td>Rank.ace</td>\n",
       "      <td>1</td>\n",
       "    </tr>\n",
       "  </tbody>\n",
       "</table>\n",
       "</div>"
      ],
      "text/plain": [
       "               card          suit        rank  score\n",
       "33   Eight of Clubs     Suit.club  Rank.eight      8\n",
       "10   Jack of Hearts    Suit.heart   Rank.jack     10\n",
       "13  Ace of Diamonds  Suit.diamond    Rank.ace      1"
      ]
     },
     "execution_count": 5,
     "metadata": {},
     "output_type": "execute_result"
    }
   ],
   "source": [
    "def get_sample(n = 3):\n",
    "    return df.reindex(np.random.permutation(df.index)).head(n)\n",
    "\n",
    "get_sample()"
   ]
  },
  {
   "cell_type": "code",
   "execution_count": 6,
   "metadata": {
    "collapsed": true
   },
   "outputs": [],
   "source": [
    "samples = []\n",
    "for _ in range(10000):\n",
    "    samples.append(get_sample()['score'].sum())\n",
    "\n",
    "samples = pd.Series(samples)"
   ]
  },
  {
   "cell_type": "markdown",
   "metadata": {},
   "source": [
    "## Distribution of Values"
   ]
  },
  {
   "cell_type": "code",
   "execution_count": 7,
   "metadata": {},
   "outputs": [
    {
     "data": {
      "text/plain": [
       "count    10000.000000\n",
       "mean        19.575800\n",
       "std          5.358538\n",
       "min          3.000000\n",
       "25%         16.000000\n",
       "50%         20.000000\n",
       "75%         23.000000\n",
       "max         30.000000\n",
       "dtype: float64"
      ]
     },
     "execution_count": 7,
     "metadata": {},
     "output_type": "execute_result"
    }
   ],
   "source": [
    "samples.describe()"
   ]
  },
  {
   "cell_type": "code",
   "execution_count": 8,
   "metadata": {},
   "outputs": [
    {
     "data": {
      "text/plain": [
       "<matplotlib.axes._subplots.AxesSubplot at 0x1119d8898>"
      ]
     },
     "execution_count": 8,
     "metadata": {},
     "output_type": "execute_result"
    },
    {
     "data": {
      "image/png": "[encoded data removed]",
      "text/plain": [
       "<matplotlib.figure.Figure at 0x1118e40b8>"
      ]
     },
     "metadata": {},
     "output_type": "display_data"
    }
   ],
   "source": [
    "samples.hist(bins = 26)"
   ]
  },
  {
   "cell_type": "markdown",
   "metadata": {},
   "source": [
    "The distribution of sample values is normal. This is because the distribution of sample means (or in this case, sums) is normal for any population. This is given by The Central Limit Theorem."
   ]
  },
  {
   "cell_type": "markdown",
   "metadata": {},
   "source": [
    "* What range of values do you expect 90% of three-card draw sums to fall into?"
   ]
  },
  {
   "cell_type": "markdown",
   "metadata": {},
   "source": [
    "90% of the draw values should fall within the 5th and 95th percentile. The z-scores that correspond to these percentiles are -1.645 and 1.645, respectively. For our estimated mean of 19.54 and our estimated standard deviation of 5.39, these z-scores correspond to:\n",
    "\n",
    "* z = (x - sample_mean) / SE => -1.645 = (x - 19.54) / 5.39 => x = 10.67\n",
    "* z = (x - sample_mean) / SE => 1.645 = (x - 19.54) / 5.39 => x = 28.41\n",
    "\n",
    "Therefore, we expect approximately 90% of the draw values to fall in the range (10.67, 28.41)."
   ]
  },
  {
   "cell_type": "markdown",
   "metadata": {},
   "source": [
    "* How likely are you to get a draw of at least 20 from a random draw?"
   ]
  },
  {
   "cell_type": "markdown",
   "metadata": {},
   "source": [
    "Using our estimated mean and standard deviation, 20 corresponds to a z-score of:\n",
    "\n",
    "* z = (x - sample_mean) / SE => z = (20 - 19.54) / 5.39 => z = 0.085\n",
    "\n",
    "Using this, we find that the probability that the draw value will be less than 20 is 0.534. Therefore, the probability that the draw value will be at least 20 is 0.466."
   ]
  }
 ],
 "metadata": {
  "kernelspec": {
   "display_name": "Python 3",
   "language": "python",
   "name": "python3"
  },
  "language_info": {
   "codemirror_mode": {
    "name": "ipython",
    "version": 3
   },
   "file_extension": ".py",
   "mimetype": "text/x-python",
   "name": "python",
   "nbconvert_exporter": "python",
   "pygments_lexer": "ipython3",
   "version": "3.6.1"
  }
 },
 "nbformat": 4,
 "nbformat_minor": 2
}
