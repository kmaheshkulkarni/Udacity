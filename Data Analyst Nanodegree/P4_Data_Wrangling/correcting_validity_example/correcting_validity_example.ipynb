{
 "cells": [
  {
   "cell_type": "markdown",
   "metadata": {},
   "source": [
    "# Correcting Validity Example\n",
    "This is an example to show how to check the \"productionStartYear\" of the DBPedia autos datafile for valid values.\n",
    "The following things should be done:\n",
    "- Check if the field \"productionStartYear\" contains a year.\n",
    "- Check if the year is in range 1886-2014.\n",
    "- Convert the value of the field to be just a year (not full datetime).\n",
    "- The rest of the fields and values stay the same.\n",
    "- If the value of the field is a valid year in the range as described above, write that line to the output_good file.\n",
    "- If the value of the field is not a valid year as described above, write that line to the output_bad file.\n",
    "- Discard rows (neither write to good nor bad) if the URI is not from dbpedia.org.\n",
    "- Use the provided way of reading and writing data (DictReader and DictWriter). They will take care of dealing with the header."
   ]
  },
  {
   "cell_type": "code",
   "execution_count": 1,
   "metadata": {
    "collapsed": false
   },
   "outputs": [],
   "source": [
    "import csv\n",
    "import pprint\n",
    "import re\n",
    "from zipfile import ZipFile\n",
    "import io\n",
    "\n",
    "fname = 'autos.zip'\n",
    "OUTPUT_GOOD = 'autos-valid.csv'\n",
    "OUTPUT_BAD = 'FIXME-autos.csv'\n",
    "\n",
    "# Open the zipped file.\n",
    "with ZipFile(fname, 'r') as zfile:\n",
    "    INPUT_FILE = io.TextIOWrapper(zfile.open('autos.csv'))\n",
    "\n",
    "def validate_uri(row):\n",
    "    return re.match(r'http:\\/\\/dbpedia.org', row)\n",
    "\n",
    "def validate_date(row):\n",
    "    match = re.match(r'\\d{4}', row)\n",
    "    if match:\n",
    "        if (int(match.group()) >= 1886) and (int(match.group()) <= 2014):\n",
    "            return int(match.group())    \n",
    "\n",
    "def process_file(input_file, output_good, output_bad):\n",
    "    # store data into lists for output\n",
    "    data_good = []\n",
    "    data_bad = []\n",
    "    reader = csv.DictReader(input_file)\n",
    "    header = reader.fieldnames\n",
    "    for row in reader:\n",
    "        # validate URI value\n",
    "        if validate_uri(row['URI']):\n",
    "            new_date = validate_date(row['productionStartYear'])\n",
    "            if (new_date):\n",
    "                row['productionStartYear'] = new_date\n",
    "                data_good.append(row)\n",
    "            else:\n",
    "                data_bad.append(row)\n",
    " \n",
    "    # Write processed data to output files\n",
    "    with open(output_good, \"w\") as good:\n",
    "        writer = csv.DictWriter(good, delimiter=\",\", fieldnames= header)\n",
    "        writer.writeheader()\n",
    "        for row in data_good:\n",
    "            writer.writerow(row)\n",
    "\n",
    "    with open(output_bad, \"w\") as bad:\n",
    "        writer = csv.DictWriter(bad, delimiter=\",\", fieldnames= header)\n",
    "        writer.writeheader()\n",
    "        for row in data_bad:\n",
    "            writer.writerow(row)\n",
    "\n",
    "if False:\n",
    "    process_file(INPUT_FILE, OUTPUT_GOOD, OUTPUT_BAD)"
   ]
  }
 ],
 "metadata": {
  "kernelspec": {
   "display_name": "Python 3",
   "language": "python",
   "name": "python3"
  },
  "language_info": {
   "codemirror_mode": {
    "name": "ipython",
    "version": 3
   },
   "file_extension": ".py",
   "mimetype": "text/x-python",
   "name": "python",
   "nbconvert_exporter": "python",
   "pygments_lexer": "ipython3",
   "version": "3.6.0"
  }
 },
 "nbformat": 4,
 "nbformat_minor": 2
}
