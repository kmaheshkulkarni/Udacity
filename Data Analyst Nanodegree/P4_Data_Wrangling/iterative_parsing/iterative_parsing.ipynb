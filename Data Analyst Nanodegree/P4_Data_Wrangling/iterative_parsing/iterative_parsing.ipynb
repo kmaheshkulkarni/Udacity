{
 "cells": [
  {
   "cell_type": "markdown",
   "metadata": {},
   "source": [
    "# Iterative Parsing\n",
    "This is an example to show how to use the iterative parsing to process a map file and find out not only what tags are there, but also how many. The code return a dictionary with the tag name as the key and number of times this tag can be encountered in the map as value.\n",
    "## Reducing Memory footprint when processing large datasets in XML\n",
    "Using '.iterparse()', not only iterates through (and parses) each element of 'an xml file, but it also builds the complete 'tree' in memory. There are very few computers that can hold a 2GB file in memory. The get_element() function stops the '.iterparse()' method from building the complete tree in memory. Instead, once it has finished processing an element, it removes each element from memory with 'root.clear()' method. Essentially it creates a generator, yield (which in this code is each of the individual elements of the osm file). The important part is that the values for 'yield' are not stored in memory, they are generated in each iteration. Additional info can be found [here](http://effbot.org/zone/element-iterparse.htm)."
   ]
  },
  {
   "cell_type": "code",
   "execution_count": 1,
   "metadata": {
    "collapsed": false
   },
   "outputs": [
    {
     "data": {
      "text/plain": [
       "{'bounds': 1,\n",
       " 'member': 3,\n",
       " 'nd': 4,\n",
       " 'node': 20,\n",
       " 'osm': 1,\n",
       " 'relation': 1,\n",
       " 'tag': 7,\n",
       " 'way': 1}"
      ]
     },
     "execution_count": 1,
     "metadata": {},
     "output_type": "execute_result"
    }
   ],
   "source": [
    "import xml.etree.cElementTree as ET\n",
    "\n",
    "def get_element(osm_file):\n",
    "    \"\"\" Reference:\n",
    "    http://stackoverflow.com/questions/3095434/inserting-newlines-in-xml-file-generated-via-xml-etree-elementtree-in-python\n",
    "    \"\"\"\n",
    "    context = ET.iterparse(osm_file, events=('start', 'end'))\n",
    "    event, root = next(context)\n",
    "    for event, elem in context:\n",
    "        if event == 'end':\n",
    "            yield elem\n",
    "            root.clear()\n",
    "\n",
    "def count_tags(filename):\n",
    "    tags = {}\n",
    "    for element in get_element(filename):\n",
    "        if element.tag not in tags.keys():\n",
    "            tags[element.tag] = 1\n",
    "        else:\n",
    "            tags[element.tag] += 1\n",
    "    return tags\n",
    "\n",
    "count_tags('test.osm')"
   ]
  }
 ],
 "metadata": {
  "kernelspec": {
   "display_name": "Python 3",
   "language": "python",
   "name": "python3"
  },
  "language_info": {
   "codemirror_mode": {
    "name": "ipython",
    "version": 3
   },
   "file_extension": ".py",
   "mimetype": "text/x-python",
   "name": "python",
   "nbconvert_exporter": "python",
   "pygments_lexer": "ipython3",
   "version": "3.6.0"
  }
 },
 "nbformat": 4,
 "nbformat_minor": 2
}
