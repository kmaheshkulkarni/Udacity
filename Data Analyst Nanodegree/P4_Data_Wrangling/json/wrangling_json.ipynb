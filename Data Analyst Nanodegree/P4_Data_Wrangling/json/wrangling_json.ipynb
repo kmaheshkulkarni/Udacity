{
 "cells": [
  {
   "cell_type": "markdown",
   "metadata": {},
   "source": [
    "# Wrangling JSON\n",
    "\n",
    "## An example to show how to get data from NYT using python.\n",
    "First an API key from NYT developer site https://developer.nytimes.com is required to access the data."
   ]
  },
  {
   "cell_type": "code",
   "execution_count": 1,
   "metadata": {
    "collapsed": false
   },
   "outputs": [],
   "source": [
    "# Import the required libs\n",
    "import json\n",
    "import requests\n",
    "from pprint import pprint\n",
    "\n",
    "# Query the database.\n",
    "query = 'new york times'\n",
    "query2 = 'Presidential'\n",
    "\n",
    "# From NYT developer site request an API key.\n",
    "# There are many kinds of API’s available.\n",
    "# Use the url, query and API key to access the NYT data.\n",
    "url = 'http://api.nytimes.com/svc/search/v2/articlesearch.json? + query + &page=2&sort=oldest&\\\n",
    "api-key=7b6be480b8ef4f6f91996a4af09491ca'\n",
    "\n",
    "# Store data in a local variable called resp. This gives everything in the form of a continuous string.\n",
    "resp = requests.get(url)\n",
    "\n",
    "# Change the above string into json format using loads function.\n",
    "data = json.loads(resp.text)"
   ]
  },
  {
   "cell_type": "markdown",
   "metadata": {},
   "source": [
    "Extract all the data or one by one or using specific keys."
   ]
  },
  {
   "cell_type": "code",
   "execution_count": 2,
   "metadata": {
    "collapsed": false
   },
   "outputs": [],
   "source": [
    "# Turn from False to True to run the code.\n",
    "# Get a better formatted form of data using pretty print.\n",
    "if False:\n",
    "    pprint(data)\n",
    "\n",
    "# Extract data\n",
    "if False:\n",
    "    for key in data:\n",
    "        print(key)\n",
    "\n",
    "# Get the data from each of these three keys. Example:\n",
    "if False:\n",
    "    pprint(data['response'])\n",
    "\n",
    "# See the keys inside response.\n",
    "if False:\n",
    "    for key in data['response']:\n",
    "        pprint(key)\n",
    "\n",
    "# Get the data from docs.\n",
    "if False:\n",
    "    pprint(data['response']['docs'])\n",
    "    \n",
    "# Print the first element of docs array.\n",
    "if False:\n",
    "    pprint(data['response']['docs'][0])\n",
    "\n",
    "# Print the headlines of all the articles.\n",
    "if False:\n",
    "    for key in data['response']['docs']:\n",
    "        pprint(key['headline']['main'])"
   ]
  },
  {
   "cell_type": "markdown",
   "metadata": {},
   "source": [
    "More data wrangling"
   ]
  },
  {
   "cell_type": "code",
   "execution_count": 3,
   "metadata": {
    "collapsed": false
   },
   "outputs": [],
   "source": [
    "url2 = 'http://api.nytimes.com/svc/mostpopular/v2/mostviewed/arts/30.json?offset=40&api-key=7b6be480b8ef4f6f91996a4af09491ca'\n",
    "resp2 = requests.get(url2)\n",
    "data2 = json.loads(resp2.text)\n",
    "\n",
    "# Make a function to convert the data to a list of dicts.\n",
    "def article_overview():\n",
    "    # Data consists of a list of dicts.\n",
    "    titles = []\n",
    "    urls =[]\n",
    "    # Loop through each dict (ie, each article) within data.\n",
    "    for article in data2['results']:\n",
    "        # Extract section for each article.\n",
    "        section = article['section']\n",
    "        # Extract title for each article.\n",
    "        title = article['title']\n",
    "        # For each article, create a dict with section as key and title as value.\n",
    "        titles.append({section: title})\n",
    "        # Check to see if article has a \"media\" key.\n",
    "        if 'media' in article:\n",
    "            # Loop through media, which is a list of dicts.  \n",
    "            # Each dict has 5 keys: \"media-metadata\", \"subtype\", \"type\", \"copyright\", and \"caption\".\n",
    "            # Each m is one dict.\n",
    "            for m in article['media']:\n",
    "                # Loop through media-metadata, which is a list of dicts.\n",
    "                # Each dict has 4 keys: \"url\", \"width\", \"height\", and \"format\".\n",
    "                # Each mm is one dict.\n",
    "                for mm in m['media-metadata']:\n",
    "                    if mm['format'] == 'Standard Thumbnail':\n",
    "                        urls.append(mm['url'])\n",
    "    return (titles, urls)\n",
    "\n",
    "if False:\n",
    "    pprint(data2)\n",
    "\n",
    "if False:\n",
    "    for key in data2:\n",
    "        print(key)\n",
    "    \n",
    "if False:\n",
    "    # Call the article_overview function and print the extracted data.\n",
    "    pprint(article_overview())"
   ]
  }
 ],
 "metadata": {
  "kernelspec": {
   "display_name": "Python 3",
   "language": "python",
   "name": "python3"
  },
  "language_info": {
   "codemirror_mode": {
    "name": "ipython",
    "version": 3
   },
   "file_extension": ".py",
   "mimetype": "text/x-python",
   "name": "python",
   "nbconvert_exporter": "python",
   "pygments_lexer": "ipython3",
   "version": "3.6.0"
  }
 },
 "nbformat": 4,
 "nbformat_minor": 2
}
