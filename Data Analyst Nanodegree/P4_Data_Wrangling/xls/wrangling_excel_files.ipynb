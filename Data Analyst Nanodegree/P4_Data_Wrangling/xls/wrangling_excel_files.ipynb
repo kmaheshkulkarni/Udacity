{
 "cells": [
  {
   "cell_type": "markdown",
   "metadata": {},
   "source": [
    "# Wrangling Excel Files\n",
    "An example to show how to extract data from an excel file using xlrd library.\n",
    "The time and value of max load for each of the regions COAST, EAST, FAR_WEST, NORTH, NORTH_C, SOUTHERN, SOUTH_C, WEST are extracted. The result is saved in a csv file, using pipe character | as the delimiter."
   ]
  },
  {
   "cell_type": "code",
   "execution_count": 1,
   "metadata": {
    "collapsed": false
   },
   "outputs": [
    {
     "data": {
      "text/plain": [
       "[['Station', 'Year', 'Month', 'Day', 'Hour', 'Max Load'],\n",
       " ['COAST', 2013, 8, 13, 17, 18779.025510000003],\n",
       " ['EAST', 2013, 8, 5, 17, 2380.1654089999956],\n",
       " ['FAR_WEST', 2013, 6, 26, 17, 2281.2722140000024],\n",
       " ['NORTH', 2013, 8, 7, 17, 1544.7707140000005],\n",
       " ['NORTH_C', 2013, 8, 7, 18, 24415.570226999993],\n",
       " ['SOUTHERN', 2013, 8, 8, 16, 5494.157645],\n",
       " ['SOUTH_C', 2013, 8, 8, 18, 11433.30491600001],\n",
       " ['WEST', 2013, 8, 7, 17, 1862.6137649999998]]"
      ]
     },
     "execution_count": 1,
     "metadata": {},
     "output_type": "execute_result"
    }
   ],
   "source": [
    "import xlrd\n",
    "import csv\n",
    "\n",
    "datafile = \"2013_ERCOT_Hourly_Load_Data.xls\"\n",
    "outfile = \"2013_Max_Loads.csv\"\n",
    "\n",
    "        \n",
    "def parse_file(datafile):\n",
    "    workbook = xlrd.open_workbook(datafile)\n",
    "    sheet = workbook.sheet_by_index(0)\n",
    "    data = [['Station','Year','Month','Day','Hour','Max Load']]\n",
    "    # Iterate from number=second_column to number=last_column_but_one.\n",
    "    for col in range(1, sheet.ncols-1):\n",
    "        # Get the column names Coast, East,...etc.\n",
    "        station = sheet.cell_value(0, col)\n",
    "        # Get all the column values.\n",
    "        column = sheet.col_values(col, start_rowx=1, end_rowx=sheet.nrows)\n",
    "        # Find the max value of each column.\n",
    "        max_value = max(column)\n",
    "        # Find the positions of max values.\n",
    "        max_index = column.index(max(column))\n",
    "        # Convert the Excel numbers which represent dates into tuples.\n",
    "        (year,month,day,hour,_,_) = xlrd.xldate_as_tuple(sheet.cell_value(max_index + 1, 0), 0)\n",
    "        data.append([station, year, month, day, hour, max_value])\n",
    "\n",
    "    return data\n",
    "\n",
    "def save_file(data, filename):\n",
    "    # Save the result in a csv file, using pipe character | as the delimiter.\n",
    "    with open(filename, 'wb') as f:\n",
    "        writer = csv.writer(f, delimiter='|')\n",
    "        writer.writerows(data)\n",
    "    \n",
    "    return None\n",
    "\n",
    "parse_file(datafile)"
   ]
  }
 ],
 "metadata": {
  "kernelspec": {
   "display_name": "Python 3",
   "language": "python",
   "name": "python3"
  },
  "language_info": {
   "codemirror_mode": {
    "name": "ipython",
    "version": 3
   },
   "file_extension": ".py",
   "mimetype": "text/x-python",
   "name": "python",
   "nbconvert_exporter": "python",
   "pygments_lexer": "ipython3",
   "version": "3.6.0"
  }
 },
 "nbformat": 4,
 "nbformat_minor": 2
}
