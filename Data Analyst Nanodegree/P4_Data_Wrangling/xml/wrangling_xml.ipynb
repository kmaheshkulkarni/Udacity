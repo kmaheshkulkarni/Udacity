{
 "cells": [
  {
   "cell_type": "markdown",
   "metadata": {},
   "source": [
    "# Wrangling XML\n",
    "An example to show how to extract data from an xml file and add them to a list."
   ]
  },
  {
   "cell_type": "code",
   "execution_count": 1,
   "metadata": {
    "collapsed": false
   },
   "outputs": [
    {
     "name": "stdout",
     "output_type": "stream",
     "text": [
      "[{'fnm': 'Omer', 'snm': 'Mei-Dan', 'email': 'omer@extremegate.com', 'insr': ['I1']}, {'fnm': 'Mike', 'snm': 'Carmont', 'email': 'mcarmont@hotmail.com', 'insr': ['I2']}, {'fnm': 'Lior', 'snm': 'Laver', 'email': 'laver17@gmail.com', 'insr': ['I3', 'I4']}, {'fnm': 'Meir', 'snm': 'Nyska', 'email': 'nyska@internet-zahav.net', 'insr': ['I3']}, {'fnm': 'Hagay', 'snm': 'Kammar', 'email': 'kammarh@gmail.com', 'insr': ['I8']}, {'fnm': 'Gideon', 'snm': 'Mann', 'email': 'gideon.mann.md@gmail.com', 'insr': ['I3', 'I5']}, {'fnm': 'Barnaby', 'snm': 'Clarck', 'email': 'barns.nz@gmail.com', 'insr': ['I6']}, {'fnm': 'Eugene', 'snm': 'Kots', 'email': 'eukots@gmail.com', 'insr': ['I7']}]\n"
     ]
    }
   ],
   "source": [
    "import xml.etree.ElementTree as ET\n",
    "\n",
    "article_file = \"exampleResearchArticle.xml\"\n",
    "\n",
    "# Create a function to get the root of the xml file.\n",
    "def get_root(fname):\n",
    "    tree = ET.parse(fname)\n",
    "    return tree.getroot()\n",
    "\n",
    "# Create a function to extract authors data from the xml file and add them to a list of dicts.\n",
    "def get_authors(root):\n",
    "    authors = []\n",
    "    for author in root.findall('./fm/bibl/aug/au'):\n",
    "        data = {\n",
    "                'fnm': None,\n",
    "                'snm': None,\n",
    "                'email': None,\n",
    "                'insr': []\n",
    "        }\n",
    "\n",
    "        data['fnm'] = author.find('fnm').text\n",
    "        data['snm'] = author.find('snm').text\n",
    "        data['email'] = author.find('email').text\n",
    "        for i in author.findall('insr'):\n",
    "            data['insr'].append(i.attrib['iid'])\n",
    "\n",
    "        authors.append(data)\n",
    "\n",
    "    return authors\n",
    "\n",
    "root = get_root(article_file)\n",
    "data = get_authors(root)\n",
    "print(data)"
   ]
  }
 ],
 "metadata": {
  "kernelspec": {
   "display_name": "Python 3",
   "language": "python",
   "name": "python3"
  },
  "language_info": {
   "codemirror_mode": {
    "name": "ipython",
    "version": 3
   },
   "file_extension": ".py",
   "mimetype": "text/x-python",
   "name": "python",
   "nbconvert_exporter": "python",
   "pygments_lexer": "ipython3",
   "version": "3.6.0"
  }
 },
 "nbformat": 4,
 "nbformat_minor": 2
}
